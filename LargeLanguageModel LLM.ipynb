{
 "cells": [
  {
   "cell_type": "markdown",
   "id": "6a81d871-bb27-4b9e-8934-d0df3dfc2be8",
   "metadata": {},
   "source": [
    "# LLM LangChain : Model, Prompt and Output"
   ]
  },
  {
   "cell_type": "code",
   "execution_count": 2,
   "id": "02a95c40-a5c0-4482-a528-f07a39f3b504",
   "metadata": {},
   "outputs": [],
   "source": [
    "from dotenv import load_dotenv, find_dotenv\n",
    "import os\n",
    "_ = load_dotenv(find_dotenv()) # read local .env file\n",
    "\n",
    "# openai.api_key = os.environ['OPENAI_API_KEY']"
   ]
  },
  {
   "cell_type": "code",
   "execution_count": 3,
   "id": "fb7ca9a2-c553-4252-8034-d5a6a0f9539b",
   "metadata": {},
   "outputs": [
    {
     "data": {
      "text/plain": [
       "'1 + 1 = 2'"
      ]
     },
     "execution_count": 3,
     "metadata": {},
     "output_type": "execute_result"
    }
   ],
   "source": [
    "import os\n",
    "import openai\n",
    "\n",
    "openai.api_base = \"http://localhost:12346/v1\"\n",
    "openai.api_key = \"EMPTY\"\n",
    "\n",
    "def get_completion(prompt, model=\"gpt-3.5-turbo\"):\n",
    "    messages = [{\"role\": \"user\", \"content\": prompt}]\n",
    "    response = openai.ChatCompletion.create(\n",
    "        model=model,\n",
    "        messages=messages,\n",
    "        temperature=0.7,  \n",
    "    )\n",
    "    return response.choices[0].message[\"content\"]\n",
    "\n",
    "get_completion(\"What is 1+1?\", model=\"MPT-7B-Instruct\")"
   ]
  },
  {
   "cell_type": "code",
   "execution_count": 4,
   "id": "1fc8dc14-0d9e-40f9-b810-4d76545ea301",
   "metadata": {},
   "outputs": [
    {
     "data": {
      "text/plain": [
       "ChatOpenAI(verbose=False, callbacks=None, callback_manager=None, client=<class 'openai.api_resources.chat_completion.ChatCompletion'>, model_name='MPT-7B-Instruct', temperature=0.0, model_kwargs={}, openai_api_key='EMPTY', openai_api_base='http://localhost:12346/v1', openai_organization='', openai_proxy='', request_timeout=None, max_retries=6, streaming=False, n=1, max_tokens=None)"
      ]
     },
     "execution_count": 4,
     "metadata": {},
     "output_type": "execute_result"
    }
   ],
   "source": [
    "from langchain.chat_models import ChatOpenAI\n",
    "\n",
    "# Model Creation\n",
    "\n",
    "chat = ChatOpenAI(temperature=0.0, model='MPT-7B-Instruct', openai_api_key=\"EMPTY\", openai_api_base=\"http://localhost:12346/v1\")\n",
    "chat"
   ]
  },
  {
   "cell_type": "code",
   "execution_count": 6,
   "id": "1e4427c1-66f6-4a3a-b29e-be7f8bc21976",
   "metadata": {},
   "outputs": [
    {
     "name": "stdout",
     "output_type": "stream",
     "text": [
      "input_variables=['language', 'text'] output_parser=None partial_variables={} template='Write the code in {language} for the text which is delimmited by triple backtickstext: ```{text}```\\n' template_format='f-string' validate_template=True ['language', 'text']\n",
      "prompt_message:  [HumanMessage(content='Write the code in Python for the text which is delimmited by triple backtickstext: ```the sum of n numbers```\\n', additional_kwargs={}, example=False)]\n",
      "response:  content=\"```n = int(input('Enter a number: '))\\nsum = 0\\nfor i in range(n):\\n    sum += i\\nprint(sum)```\" additional_kwargs={} example=False\n"
     ]
    }
   ],
   "source": [
    "# Defining Prompt template\n",
    "\n",
    "from langchain.prompts import ChatPromptTemplate\n",
    "\n",
    "template_string = \"\"\"Write the code in {language} for the text which is delimmited \\\n",
    "by triple backticks\\\n",
    "text: ```{text}```\n",
    "\"\"\"\n",
    "\n",
    "prompt_template = ChatPromptTemplate.from_template(template_string)\n",
    "\n",
    "print  (prompt_template.messages[0].prompt, prompt_template.input_variables)\n",
    "\n",
    "# formating message using template\n",
    "prompt_message = prompt_template.format_messages(language='Python', text='the sum of n numbers' )\n",
    "\n",
    "print ('prompt_message: ', prompt_message)\n",
    "\n",
    "# calling LLM \n",
    "\n",
    "response = chat(prompt_message)\n",
    "\n",
    "print('response: ', response)"
   ]
  },
  {
   "cell_type": "code",
   "execution_count": 15,
   "id": "7ffbbc39-8300-40fe-b545-747067568f18",
   "metadata": {},
   "outputs": [
    {
     "name": "stdout",
     "output_type": "stream",
     "text": [
      "input_variables=['text'] output_parser=None partial_variables={} template='Extract the information from the text which is delimmited by triple backticks\\nPerson: names of the persons otherwise output \"\"\\nMeeting Place: the place of meeting otherwise output \"\"\\nDay : day of the meeting otherwise output \"\"\\nDate: date of the meeting expmple Monday, Tuesday ... otherwise output \"\"\\n\\nconvert extracted information into JSON format using keys\\nPerson\\nMeeting Place\\nDate\\nDay\\n\\ntext: ```{text}```\\n' template_format='f-string' validate_template=True ['text']\n",
      "prompt_message:  [HumanMessage(content='Extract the information from the text which is delimmited by triple backticks\\nPerson: names of the persons otherwise output \"\"\\nMeeting Place: the place of meeting otherwise output \"\"\\nDay : day of the meeting otherwise output \"\"\\nDate: date of the meeting expmple Monday, Tuesday ... otherwise output \"\"\\n\\nconvert extracted information into JSON format using keys\\nPerson\\nMeeting Place\\nDate\\nDay\\n\\ntext: ```Ram meets Laxman on on 10th January 2013 in Delhi, India```\\n', additional_kwargs={}, example=False)]\n",
      "Here is the JSON representation of the text:\n",
      "\n",
      "{\n",
      "  \"Person\": [\n",
      "    \"Ram\",\n",
      "    \"Laxman\"\n",
      "  ],\n",
      "  \"Meeting Place\": \"Delhi, India\",\n",
      "  \"Date\": \"10th January 2013\",\n",
      "  \"Day\": \"Thursday\"\n",
      "} <class 'str'>\n"
     ]
    }
   ],
   "source": [
    "# Extarcting information from text\n",
    "from langchain.prompts import ChatPromptTemplate\n",
    "\n",
    "template_string = \"\"\"Extract the information from the text which is delimmited \\\n",
    "by triple backticks\\\n",
    "\n",
    "Person: names of the persons otherwise output \"\"\n",
    "Meeting Place: the place of meeting otherwise output \"\"\n",
    "Day : day of the meeting otherwise output \"\"\n",
    "Date: date of the meeting expmple Monday, Tuesday ... otherwise output \"\"\n",
    "\n",
    "convert extracted information into JSON format using keys\n",
    "Person\n",
    "Meeting Place\n",
    "Date\n",
    "Day\n",
    "\n",
    "text: ```{text}```\n",
    "\"\"\"\n",
    "\n",
    "prompt_template = ChatPromptTemplate.from_template(template_string)\n",
    "\n",
    "print  (prompt_template.messages[0].prompt, prompt_template.input_variables)\n",
    "\n",
    "# formating message using template\n",
    "prompt_message = prompt_template.format_messages(text='Ram meets Laxman on on 10th January 2013 in Delhi, India' )\n",
    "\n",
    "print ('prompt_message: ', prompt_message)\n",
    "\n",
    "# calling LLM \n",
    "\n",
    "response = chat(prompt_message)\n",
    "\n",
    "print (response.content, type(response.content))\n",
    "\n",
    "\n",
    "# output is str convert it into dictionary\n",
    "from langchain.output_parsers import ResponseSchema\n",
    "from langchain.output_parsers import StructuredOutputParser\n",
    "\n",
    "\n"
   ]
  },
  {
   "cell_type": "code",
   "execution_count": null,
   "id": "8dc00668-3894-4f63-92ca-c17189ebd9a1",
   "metadata": {},
   "outputs": [],
   "source": []
  }
 ],
 "metadata": {
  "kernelspec": {
   "display_name": "Python 3 (ipykernel)",
   "language": "python",
   "name": "python3"
  },
  "language_info": {
   "codemirror_mode": {
    "name": "ipython",
    "version": 3
   },
   "file_extension": ".py",
   "mimetype": "text/x-python",
   "name": "python",
   "nbconvert_exporter": "python",
   "pygments_lexer": "ipython3",
   "version": "3.11.3"
  }
 },
 "nbformat": 4,
 "nbformat_minor": 5
}
